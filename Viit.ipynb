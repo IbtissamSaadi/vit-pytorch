{
  "nbformat": 4,
  "nbformat_minor": 0,
  "metadata": {
    "colab": {
      "name": "Viit.ipynb",
      "provenance": [],
      "authorship_tag": "ABX9TyOQvMo6StdbuOhhSqEVWvwC",
      "include_colab_link": true
    },
    "kernelspec": {
      "name": "python3",
      "display_name": "Python 3"
    },
    "language_info": {
      "name": "python"
    },
    "accelerator": "GPU"
  },
  "cells": [
    {
      "cell_type": "markdown",
      "metadata": {
        "id": "view-in-github",
        "colab_type": "text"
      },
      "source": [
        "<a href=\"https://colab.research.google.com/github/IbtissamSaadi/vit-pytorch/blob/main/Viit.ipynb\" target=\"_parent\"><img src=\"https://colab.research.google.com/assets/colab-badge.svg\" alt=\"Open In Colab\"/></a>"
      ]
    },
    {
      "cell_type": "code",
      "execution_count": 42,
      "metadata": {
        "colab": {
          "base_uri": "https://localhost:8080/"
        },
        "id": "xX6gP74Iwf_i",
        "outputId": "9750b9a7-1f01-40f1-a3f2-fafc6371a684"
      },
      "outputs": [
        {
          "output_type": "stream",
          "name": "stdout",
          "text": [
            "Drive already mounted at /content/drive; to attempt to forcibly remount, call drive.mount(\"/content/drive\", force_remount=True).\n"
          ]
        }
      ],
      "source": [
        "from google.colab import drive\n",
        "drive.mount('/content/drive')"
      ]
    },
    {
      "cell_type": "code",
      "source": [
        "!pip install vit_pytorch\n",
        "!pip install timm"
      ],
      "metadata": {
        "colab": {
          "base_uri": "https://localhost:8080/"
        },
        "id": "ebRoxXhYwmHq",
        "outputId": "929bbb0a-0c6e-4f01-f891-6ee1586b7d36"
      },
      "execution_count": 43,
      "outputs": [
        {
          "output_type": "stream",
          "name": "stdout",
          "text": [
            "Requirement already satisfied: vit_pytorch in /usr/local/lib/python3.7/dist-packages (0.26.3)\n",
            "Requirement already satisfied: torch>=1.6 in /usr/local/lib/python3.7/dist-packages (from vit_pytorch) (1.10.0+cu111)\n",
            "Requirement already satisfied: torchvision in /usr/local/lib/python3.7/dist-packages (from vit_pytorch) (0.11.1+cu111)\n",
            "Requirement already satisfied: einops>=0.3 in /usr/local/lib/python3.7/dist-packages (from vit_pytorch) (0.4.0)\n",
            "Requirement already satisfied: typing-extensions in /usr/local/lib/python3.7/dist-packages (from torch>=1.6->vit_pytorch) (3.10.0.2)\n",
            "Requirement already satisfied: numpy in /usr/local/lib/python3.7/dist-packages (from torchvision->vit_pytorch) (1.19.5)\n",
            "Requirement already satisfied: pillow!=8.3.0,>=5.3.0 in /usr/local/lib/python3.7/dist-packages (from torchvision->vit_pytorch) (7.1.2)\n",
            "Requirement already satisfied: timm in /usr/local/lib/python3.7/dist-packages (0.5.4)\n",
            "Requirement already satisfied: torch>=1.4 in /usr/local/lib/python3.7/dist-packages (from timm) (1.10.0+cu111)\n",
            "Requirement already satisfied: torchvision in /usr/local/lib/python3.7/dist-packages (from timm) (0.11.1+cu111)\n",
            "Requirement already satisfied: typing-extensions in /usr/local/lib/python3.7/dist-packages (from torch>=1.4->timm) (3.10.0.2)\n",
            "Requirement already satisfied: pillow!=8.3.0,>=5.3.0 in /usr/local/lib/python3.7/dist-packages (from torchvision->timm) (7.1.2)\n",
            "Requirement already satisfied: numpy in /usr/local/lib/python3.7/dist-packages (from torchvision->timm) (1.19.5)\n"
          ]
        }
      ]
    },
    {
      "cell_type": "code",
      "source": [
        "import torch, torchvision\n",
        "import numpy as np\n",
        "import pandas as pd\n",
        "#from tqdm import tqdm\n",
        "import PIL.Image as Image\n",
        "#import seaborn as sns\n",
        "#from pylab import rcParams\n",
        "import matplotlib.pyplot as plt\n",
        "#from matplotlib import rc\n",
        "from matplotlib.ticker import MaxNLocator\n",
        "from torch.optim import lr_scheduler\n",
        "#from sklearn.model_selection import train_test_split\n",
        "#from sklearn.metrics import confusion_matrix, classification_report\n",
        "#from glob import glob\n",
        "#import shutil\n",
        "import timm\n",
        "from collections import defaultdict\n",
        "from torch import nn, optim\n",
        "import torch.nn.functional as F\n",
        "import torchvision.transforms as T\n",
        "from torchvision.datasets import ImageFolder\n",
        "from torch.utils.data import DataLoader\n",
        "from torchvision import models, datasets\n",
        "from vit_pytorch import ViT\n",
        "\n",
        "import time\n",
        "\n",
        "#%matplotlib inline\n",
        "#%config InlineBackend.figure_format='retina'\n",
        "#sns.set(style='whitegrid', palette='muted', font_scale=1.2)\n",
        "#HAPPY_COLORS_PALETTE = [\"#01BEFE\", \"#FFDD00\", \"#FF7D00\", \"#FF006D\", \"#ADFF02\", \"#8F00FF\"]\n",
        "#sns.set_palette(sns.color_palette(HAPPY_COLORS_PALETTE))\n",
        "#rcParams['figure.figsize'] = 12, 8\n",
        "\n",
        "torch.manual_seed(42)\n",
        "#device = torch.device(\"cuda\" if torch.cuda.is_available() else \"cpu\")\n",
        "load_model = True\n",
        "Dpath = '/content/drive/MyDrive/CK+48'\n",
        "#Bs_Train = 100\n",
        "#Bs_Test = 1000\n",
        "\n",
        "tform_mnist = torchvision.transforms.Compose([\n",
        "    #torchvision.transforms.RandomHorizontalFlip(),\n",
        "    #torchvision.transforms.RandomRotation(30),\n",
        "    #torchvision.transforms.CenterCrop((16)),\n",
        "    #torchvision.transforms.RandomAffine(degrees=40, scale=(.3, 1.1), shear=0.15),\n",
        "    #torchvision.transforms.Resize((48,48)),                                          \n",
        "    torchvision.transforms.ToTensor(),\n",
        "    torchvision.transforms.Normalize((0.5,),(0.5,))\n",
        "])\n",
        "\n",
        "\"\"\"\n",
        "\"\"\"\n",
        "\"\"\"\n",
        "path_train = '/content/drive/MyDrive/FER2013 small dataset/train'\n",
        "path_vaild = '/content/drive/MyDrive/FER2013 small dataset/test'\n",
        "#apply multiple transformer after each other\n",
        "transforms_vaild = torchvision.transforms.Compose([\n",
        "                                     #torchvision.transforms.Resize((224,)),\n",
        "                                     torchvision.transforms.Grayscale(),\n",
        "                                     torchvision.transforms.ToTensor(),\n",
        "                                     torchvision.transforms.Normalize((0.5026,), (0.2595,))\n",
        "                                     ])\n",
        "\n",
        "# For training, we add some augmentation. Networks are too powerful and would overfit.\n",
        "transforms_train = torchvision.transforms.Compose([\n",
        "                                      #torchvision.transforms.Resize((224,)),\n",
        "                                      torchvision.transforms.Grayscale(),             \n",
        "                                      torchvision.transforms.RandomHorizontalFlip(),\n",
        "                                      #torchvision.transforms.RandomRotation(30),\n",
        "                                      #torchvision.transforms.CenterCrop((16)),\n",
        "                                      #torchvision.transforms.RandomAffine(degrees=40, scale=(.3, 1.1), shear=0.15),\n",
        "                                      torchvision.transforms.ToTensor(),\n",
        "                                      torchvision.transforms.Normalize((0.5066,), (0.2627,))\n",
        "                                     ])\n",
        "\"\"\"\n",
        "\"\"\"\n",
        "transforms_train = transforms.Compose([\n",
        "         transforms.Grayscale(),#Use ImageFolder to expand to three channels by default, just change it back\n",
        "         transforms.RandomHorizontalFlip(),#Random Flip\n",
        "         transforms.ColorJitter(brightness=0.5, contrast=0.5),#Adjust brightness and contrast randomly\n",
        "    transforms.ToTensor()\n",
        "])\n",
        "transforms_vaild = transforms.Compose([\n",
        "    transforms.Grayscale(),\n",
        "    transforms.ToTensor()\n",
        "])\n",
        "\"\"\"\n",
        "\"\"\"\n",
        "data_train = torchvision.datasets.ImageFolder(root=path_train,transform=transforms_train)\n",
        "data_vaild = torchvision.datasets.ImageFolder(root=path_vaild,transform=transforms_vaild)\n",
        "print(\"Classes: \")\n",
        "classes = data_train.classes \n",
        "print(classes)\n",
        "train_set = torch.utils.data.DataLoader(dataset=data_train,batch_size=64,shuffle=True)\n",
        "vaild_set = torch.utils.data.DataLoader(dataset=data_vaild,batch_size=64,shuffle=False)\n",
        "\"\"\"\n",
        "\n",
        "orig_set = datasets.ImageFolder(root=Dpath, transform=tform_mnist )  #  dataset\n",
        "n = len(orig_set)  # total number of examples\n",
        "print(\"Classes: \")\n",
        "print(orig_set.classes)\n",
        "n_test = int(0.20 * n)  # take ~10% for test\n",
        "\n",
        "test_set = torch.utils.data.Subset(orig_set, range(n_test))  # take first 30%\n",
        "print(\"test \",len(test_set))\n",
        "train_set = torch.utils.data.Subset(orig_set, range(n_test, n))  # take the rest \n",
        "print(\"train \",len(train_set))\n",
        "\n",
        "train_loader = torch.utils.data.DataLoader(train_set, batch_size=64, \n",
        "                                          shuffle = True )\n",
        "test_loader = torch.utils.data.DataLoader(test_set, batch_size=64, \n",
        "                                          shuffle = False)\n",
        "\n",
        "\n",
        "\"\"\"\n",
        "DOWNLOAD_PATH = '/data/mnist'\n",
        "BATCH_SIZE_TRAIN = 100\n",
        "BATCH_SIZE_TEST = 1000\n",
        "\n",
        "transform_mnist = torchvision.transforms.Compose([torchvision.transforms.ToTensor(),\n",
        "                               torchvision.transforms.Normalize((0.1307,), (0.3081,))])\n",
        "\n",
        "train_set = torchvision.datasets.MNIST(DOWNLOAD_PATH, train=True, download=True,\n",
        "                                       transform=transform_mnist)\n",
        "train_loader = torch.utils.data.DataLoader(train_set, batch_size=BATCH_SIZE_TRAIN, shuffle=True)\n",
        "\n",
        "test_set = torchvision.datasets.MNIST(DOWNLOAD_PATH, train=False, download=True,\n",
        "                                      transform=transform_mnist)\n",
        "test_loader = torch.utils.data.DataLoader(test_set, batch_size=BATCH_SIZE_TEST, shuffle=True)\n",
        "\"\"\"\n",
        "\"\"\"\n",
        "vit_model = timm.create_model('vit_base_patch16_224', pretrained=True)\n",
        "\n",
        "for param in vit_model.parameters():\n",
        "      param.requires_grad = False\n",
        "\n",
        "num_inputs = vit_model.head.in_features\n",
        "last_layer = nn.Linear(num_inputs, len(orig_set.classes))\n",
        "vit_model.head = last_layer\n",
        "\"\"\"\n",
        "\"\"\"\n",
        "def create_model(n_classes):\n",
        "  model = timm.create_model('vit_base_patch16_224', pretrained=True)\n",
        "  n_features = model.head.in_features\n",
        "  model.head = nn.Linear(n_features, n_classes)\n",
        "  return model\n",
        "\"\"\"\n",
        "\n",
        "\n",
        "def train_epoch(\n",
        "  model,\n",
        "  data_loader,\n",
        "  loss_fn,\n",
        "  optimizer,\n",
        "  #scheduler,\n",
        "  n_examples\n",
        "):\n",
        "  model = model.train()\n",
        "\n",
        "  losses = []\n",
        "  correct_predictions = 0\n",
        "\n",
        "  for inputs, labels in data_loader:\n",
        "    #inputs = inputs.to(device)\n",
        "    #labels = labels.to(device)\n",
        "    #start forward pass\n",
        "    outputs = model(inputs)\n",
        "    _, preds = torch.max(outputs, dim=1)\n",
        "    loss = loss_fn(outputs, labels)\n",
        "    correct_predictions += torch.sum(preds == labels)\n",
        "    losses.append(loss.item())\n",
        "    #backward pass\n",
        "    loss.backward()#calculate gradient\n",
        "    optimizer.step()#update wightes\n",
        "    optimizer.zero_grad()#empty our gradients for the next iteration\n",
        "  #scheduler.step()\n",
        "  return correct_predictions.double() / n_examples, np.mean(losses)\n",
        "\n",
        "def eval_model(model, data_loader, loss_fn, n_examples):\n",
        "  model = model.eval()\n",
        "  losses = []\n",
        "  correct_predictions = 0\n",
        "  #to track the history for evaluate the model and get the accuracy\n",
        "  #we don't calculate the gradient\n",
        "  with torch.no_grad():\n",
        "    for inputs, labels in data_loader:\n",
        "      #inputs = inputs.to(device)\n",
        "      #labels = labels.to(device)\n",
        "      outputs = model(inputs)\n",
        "      #actual predict _ we don't need it, predict\n",
        "      _, preds = torch.max(outputs, dim=1)#choose highest prob for every output and class them to the right class\n",
        "      loss = loss_fn(outputs, labels)\n",
        "      correct_predictions += torch.sum(preds == labels)\n",
        "      losses.append(loss.item())\n",
        "  return correct_predictions.double() / n_examples, np.mean(losses)\n",
        "\n",
        "def train_model(model, train_loaders, test_loaders, n_epochs):\n",
        "  optimizer = optim.Adam(model.parameters(), lr=0.001)\n",
        "  #scheduler = lr_scheduler.StepLR(optimizer, step_size=10, gamma=0.1)\n",
        "  loss_fn =  nn.CrossEntropyLoss()\n",
        "  history = defaultdict(list)\n",
        "\n",
        "  dataset_sizes_train = len(train_set)\n",
        "  dataset_sizes_test = len(test_set)\n",
        "  best_accuracy = 0\n",
        "  for epoch in range(n_epochs):\n",
        "    print(f'Epoch {epoch+1 }/{n_epochs}')\n",
        "    print('-' * 30)\n",
        "    train_acc, train_loss = train_epoch(\n",
        "      model,\n",
        "      train_loaders,\n",
        "      loss_fn,\n",
        "      optimizer,\n",
        "      #scheduler,\n",
        "      dataset_sizes_train\n",
        "    )\n",
        "    print(f'Train loss {train_loss} accuracy {train_acc}')\n",
        "    val_acc, val_loss = eval_model(\n",
        "      model,\n",
        "      test_loaders,\n",
        "      loss_fn,\n",
        "      dataset_sizes_test\n",
        "    )\n",
        "    path = \"/content/drive/MyDrive/checkpointtload4.pth\" \n",
        "    checkpoint = {\n",
        "        \n",
        "            'state_dict': model.state_dict(),\n",
        "            'optimizer': optimizer.state_dict(),\n",
        "        }\n",
        "    torch.save(checkpoint, path)\n",
        "  \n",
        "    print(f'Val   loss {val_loss} accuracy {val_acc}')\n",
        "    print()\n",
        "    history['train_acc'].append(train_acc)\n",
        "    history['train_loss'].append(train_loss)\n",
        "    history['val_acc'].append(val_acc)\n",
        "    history['val_loss'].append(val_loss)\n",
        "    \n",
        "    #if val_loss > 2.50:\n",
        "     #  break\n",
        "   \n",
        "    if val_acc > best_accuracy:\n",
        "      best_accuracy = val_acc\n",
        "      #es = 0\n",
        "      torch.save(model.state_dict(), 'best_model_state.pth')\n",
        "    #else:\n",
        "     # es += 1\n",
        "      #print(\"Counter {} of 5\".format(es))\n",
        "\n",
        "      #if es > 10:\n",
        "       # print(f'Early stopping with best_acc: {best_accuracy}')\n",
        "        #break\n",
        "  print(f'Best val accuracy: {best_accuracy} , Accuracy: {100 * best_accuracy}')\n",
        "  #model.load_state_dict(torch.load('best_model_state.pth'))\n",
        "  return model, history\n",
        "\n",
        "model = ViT(image_size=48, patch_size=16, num_classes=7, channels=3,\n",
        "             dim=256, depth=6, heads=8, mlp_dim=256, dropout = 0.1, emb_dropout = 0.1)\n",
        "\n",
        "optimizer = optim.Adam(model.parameters(), lr=0.001)\n",
        "if load_model : \n",
        "   loaded_check = torch.load(\"/content/drive/MyDrive/checkpointtload4.pth\")\n",
        "   #loss = loaded_check['loss']\n",
        "   #print(\"loss\",loss)\n",
        "#epoch = loaded_check['epoch']\n",
        "   model.load_state_dict(loaded_check['state_dict'])\n",
        "   optimizer.load_state_dict(loaded_check['optimizer'])\n",
        "   \n",
        "\n",
        "\"\"\"\n",
        "vit_model = timm.create_model('vit_base_patch16_224', pretrained=True)\n",
        "for param in vit_model.parameters():\n",
        "      param.requires_grad = False\n",
        "\n",
        "num_inputs = vit_model.head.in_features\n",
        "vit_model.head = nn.Linear(num_inputs, 7)\n",
        "\"\"\"\n",
        "start_time = time.time()\n",
        "base_model, history = train_model(model, train_loader, test_loader, 5)\n",
        "\n",
        "print('Execution time:', '{:5.2f}'.format(time.time() - start_time), 'seconds')"
      ],
      "metadata": {
        "colab": {
          "base_uri": "https://localhost:8080/"
        },
        "id": "Oc5CMhYhwoez",
        "outputId": "00ae4493-ec8e-41f9-e706-10bdd2f997e0"
      },
      "execution_count": 45,
      "outputs": [
        {
          "output_type": "stream",
          "name": "stdout",
          "text": [
            "Classes: \n",
            "['anger', 'contempt', 'disgust', 'fear', 'happy', 'sadness', 'surprise']\n",
            "test  132\n",
            "train  530\n",
            "Epoch 1/5\n",
            "------------------------------\n",
            "Train loss 0.2197646200656891 accuracy 0.939622641509434\n",
            "Val   loss 7.496143182118733 accuracy 0.0\n",
            "\n",
            "Epoch 2/5\n",
            "------------------------------\n",
            "Train loss 0.11659658369090822 accuracy 0.960377358490566\n",
            "Val   loss 5.5765312512715655 accuracy 0.015151515151515152\n",
            "\n",
            "Epoch 3/5\n",
            "------------------------------\n",
            "Train loss 0.12601610821568304 accuracy 0.9509433962264151\n",
            "Val   loss 7.843168258666992 accuracy 0.0\n",
            "\n",
            "Epoch 4/5\n",
            "------------------------------\n",
            "Train loss 0.08514510560780764 accuracy 0.9716981132075472\n",
            "Val   loss 7.01501186688741 accuracy 0.015151515151515152\n",
            "\n",
            "Epoch 5/5\n",
            "------------------------------\n",
            "Train loss 0.05098830225567023 accuracy 0.9905660377358491\n",
            "Val   loss 7.348455905914307 accuracy 0.015151515151515152\n",
            "\n",
            "Best val accuracy: 0.015151515151515152 , Accuracy: 1.5151515151515151\n",
            "Execution time: 24.79 seconds\n"
          ]
        }
      ]
    },
    {
      "cell_type": "code",
      "source": [
        "def show_image(img_path):\n",
        "  img = load_image(img_path)\n",
        "  plt.imshow(img)\n",
        "  plt.axis('off')\n",
        "\n",
        "def show_predictions(model, class_names, n_images=6):\n",
        "  model = model.eval()\n",
        "  images_handeled = 0\n",
        "  plt.figure()\n",
        "  with torch.no_grad():\n",
        "    for i, (inputs, labels) in enumerate(test_loader):\n",
        "      #inputs = inputs.to(device)\n",
        "      #labels = labels.to(device)\n",
        "      outputs = model(inputs)\n",
        "      _, preds = torch.max(outputs, 1)\n",
        "      for j in range(inputs.shape[0]):\n",
        "        images_handeled += 1\n",
        "        ax = plt.subplot(2, n_images//2, images_handeled)\n",
        "        ax.set_title(f'predicted: {orig_set.classes[preds[j]]}')\n",
        "        imshow(inputs.data[j])\n",
        "        ax.axis('off')\n",
        "        if images_handeled == n_images:\n",
        "          return\n",
        "show_predictions(base_model, orig_set.classes, n_images=8)"
      ],
      "metadata": {
        "colab": {
          "base_uri": "https://localhost:8080/",
          "height": 482
        },
        "id": "BgJJD89SAmYw",
        "outputId": "ebba2e91-4b30-4624-9e21-5c6b7621bb38"
      },
      "execution_count": 56,
      "outputs": [
        {
          "output_type": "error",
          "ename": "NameError",
          "evalue": "ignored",
          "traceback": [
            "\u001b[0;31m---------------------------------------------------------------------------\u001b[0m",
            "\u001b[0;31mNameError\u001b[0m                                 Traceback (most recent call last)",
            "\u001b[0;32m<ipython-input-56-7a5880a9c468>\u001b[0m in \u001b[0;36m<module>\u001b[0;34m()\u001b[0m\n\u001b[1;32m     22\u001b[0m         \u001b[0;32mif\u001b[0m \u001b[0mimages_handeled\u001b[0m \u001b[0;34m==\u001b[0m \u001b[0mn_images\u001b[0m\u001b[0;34m:\u001b[0m\u001b[0;34m\u001b[0m\u001b[0;34m\u001b[0m\u001b[0m\n\u001b[1;32m     23\u001b[0m           \u001b[0;32mreturn\u001b[0m\u001b[0;34m\u001b[0m\u001b[0;34m\u001b[0m\u001b[0m\n\u001b[0;32m---> 24\u001b[0;31m \u001b[0mshow_predictions\u001b[0m\u001b[0;34m(\u001b[0m\u001b[0mbase_model\u001b[0m\u001b[0;34m,\u001b[0m \u001b[0morig_set\u001b[0m\u001b[0;34m.\u001b[0m\u001b[0mclasses\u001b[0m\u001b[0;34m,\u001b[0m \u001b[0mn_images\u001b[0m\u001b[0;34m=\u001b[0m\u001b[0;36m8\u001b[0m\u001b[0;34m)\u001b[0m\u001b[0;34m\u001b[0m\u001b[0;34m\u001b[0m\u001b[0m\n\u001b[0m",
            "\u001b[0;32m<ipython-input-56-7a5880a9c468>\u001b[0m in \u001b[0;36mshow_predictions\u001b[0;34m(model, class_names, n_images)\u001b[0m\n\u001b[1;32m     18\u001b[0m         \u001b[0max\u001b[0m \u001b[0;34m=\u001b[0m \u001b[0mplt\u001b[0m\u001b[0;34m.\u001b[0m\u001b[0msubplot\u001b[0m\u001b[0;34m(\u001b[0m\u001b[0;36m2\u001b[0m\u001b[0;34m,\u001b[0m \u001b[0mn_images\u001b[0m\u001b[0;34m//\u001b[0m\u001b[0;36m2\u001b[0m\u001b[0;34m,\u001b[0m \u001b[0mimages_handeled\u001b[0m\u001b[0;34m)\u001b[0m\u001b[0;34m\u001b[0m\u001b[0;34m\u001b[0m\u001b[0m\n\u001b[1;32m     19\u001b[0m         \u001b[0max\u001b[0m\u001b[0;34m.\u001b[0m\u001b[0mset_title\u001b[0m\u001b[0;34m(\u001b[0m\u001b[0;34mf'predicted: {orig_set.classes[preds[j]]}'\u001b[0m\u001b[0;34m)\u001b[0m\u001b[0;34m\u001b[0m\u001b[0;34m\u001b[0m\u001b[0m\n\u001b[0;32m---> 20\u001b[0;31m         \u001b[0mimshow\u001b[0m\u001b[0;34m(\u001b[0m\u001b[0minputs\u001b[0m\u001b[0;34m.\u001b[0m\u001b[0mdata\u001b[0m\u001b[0;34m[\u001b[0m\u001b[0mj\u001b[0m\u001b[0;34m]\u001b[0m\u001b[0;34m)\u001b[0m\u001b[0;34m\u001b[0m\u001b[0;34m\u001b[0m\u001b[0m\n\u001b[0m\u001b[1;32m     21\u001b[0m         \u001b[0max\u001b[0m\u001b[0;34m.\u001b[0m\u001b[0maxis\u001b[0m\u001b[0;34m(\u001b[0m\u001b[0;34m'off'\u001b[0m\u001b[0;34m)\u001b[0m\u001b[0;34m\u001b[0m\u001b[0;34m\u001b[0m\u001b[0m\n\u001b[1;32m     22\u001b[0m         \u001b[0;32mif\u001b[0m \u001b[0mimages_handeled\u001b[0m \u001b[0;34m==\u001b[0m \u001b[0mn_images\u001b[0m\u001b[0;34m:\u001b[0m\u001b[0;34m\u001b[0m\u001b[0;34m\u001b[0m\u001b[0m\n",
            "\u001b[0;31mNameError\u001b[0m: name 'imshow' is not defined"
          ]
        },
        {
          "output_type": "display_data",
          "data": {
            "image/png": "[encoded data removed]",
            "text/plain": [
              "<Figure size 432x288 with 1 Axes>"
            ]
          },
          "metadata": {
            "needs_background": "light"
          }
        }
      ]
    },
    {
      "cell_type": "code",
      "source": [
        "def plot_training_history(history):\n",
        "  fig, (ax1, ax2) = plt.subplots(1, 2, figsize=(18, 6))\n",
        "  ax1.plot(history['train_loss'], label='train loss')\n",
        "  ax1.plot(history['val_loss'], label='validation loss')\n",
        "  ax1.xaxis.set_major_locator(MaxNLocator(integer=True))\n",
        "  ax1.set_ylim([-0.05, 1.05])\n",
        "  ax1.legend()\n",
        "  ax1.set_ylabel('Loss')\n",
        "  ax1.set_xlabel('Epoch')\n",
        "  ax2.plot(history['train_acc'], label='train accuracy')\n",
        "  ax2.plot(history['val_acc'], label='validation accuracy')\n",
        "  ax2.xaxis.set_major_locator(MaxNLocator(integer=True))\n",
        "  ax2.set_ylim([-0.05, 1.05])\n",
        "  ax2.legend()\n",
        "  ax2.set_ylabel('Accuracy')\n",
        "  ax2.set_xlabel('Epoch')\n",
        "  fig.suptitle('Training history')\n",
        "plot_training_history(history)"
      ],
      "metadata": {
        "colab": {
          "base_uri": "https://localhost:8080/",
          "height": 431
        },
        "id": "UeMrr6PL-GUp",
        "outputId": "76b3637f-e97a-44fe-a4bc-f968c3e3fa50"
      },
      "execution_count": 46,
      "outputs": [
        {
          "output_type": "display_data",
          "data": {
            "image/png": "[encoded data removed]",
            "text/plain": [
              "<Figure size 1296x432 with 2 Axes>"
            ]
          },
          "metadata": {
            "needs_background": "light"
          }
        }
      ]
    },
    {
      "cell_type": "code",
      "source": [
        "print(classification_report(y_test, y_pred, target_names=class_names))"
      ],
      "metadata": {
        "id": "VnsqYO_DANES"
      },
      "execution_count": null,
      "outputs": []
    },
    {
      "cell_type": "code",
      "source": [
        ""
      ],
      "metadata": {
        "id": "d5w0-7jy_D3R"
      },
      "execution_count": null,
      "outputs": []
    },
    {
      "cell_type": "code",
      "source": [
        "def get_predictions(model, data_loader):\n",
        "  model = model.eval()\n",
        "  predictions = []\n",
        "  real_values = []\n",
        "  with torch.no_grad():\n",
        "    for inputs, labels in data_loader:\n",
        "      #inputs = inputs.to(device)\n",
        "      #labels = labels.to(device)\n",
        "      outputs = model(inputs)\n",
        "      _, preds = torch.max(outputs, 1)\n",
        "      predictions.extend(preds)\n",
        "      real_values.extend(labels)\n",
        "  predictions = torch.as_tensor(predictions).cpu()\n",
        "  real_values = torch.as_tensor(real_values).cpu()\n",
        "  return predictions, real_values\n",
        "y_pred, y_test = get_predictions(base_model, test_loader)\n",
        "print(classification_report(y_test, y_pred, target_names=orig_set.classes))\n"
      ],
      "metadata": {
        "colab": {
          "base_uri": "https://localhost:8080/"
        },
        "id": "DGHwuwPi_dwy",
        "outputId": "cc19a59a-27da-4492-90b5-d84282009842"
      },
      "execution_count": 59,
      "outputs": [
        {
          "output_type": "stream",
          "name": "stdout",
          "text": [
            "              precision    recall  f1-score   support\n",
            "\n",
            "       anger       0.00      0.00      0.00        98\n",
            "    contempt       1.00      0.06      0.11        34\n",
            "     disgust       0.00      0.00      0.00         0\n",
            "        fear       0.00      0.00      0.00         0\n",
            "       happy       0.00      0.00      0.00         0\n",
            "     sadness       0.00      0.00      0.00         0\n",
            "    surprise       0.00      0.00      0.00         0\n",
            "\n",
            "    accuracy                           0.02       132\n",
            "   macro avg       0.14      0.01      0.02       132\n",
            "weighted avg       0.26      0.02      0.03       132\n",
            "\n"
          ]
        },
        {
          "output_type": "stream",
          "name": "stderr",
          "text": [
            "/usr/local/lib/python3.7/dist-packages/sklearn/metrics/_classification.py:1318: UndefinedMetricWarning: Precision and F-score are ill-defined and being set to 0.0 in labels with no predicted samples. Use `zero_division` parameter to control this behavior.\n",
            "  _warn_prf(average, modifier, msg_start, len(result))\n",
            "/usr/local/lib/python3.7/dist-packages/sklearn/metrics/_classification.py:1318: UndefinedMetricWarning: Recall and F-score are ill-defined and being set to 0.0 in labels with no true samples. Use `zero_division` parameter to control this behavior.\n",
            "  _warn_prf(average, modifier, msg_start, len(result))\n",
            "/usr/local/lib/python3.7/dist-packages/sklearn/metrics/_classification.py:1318: UndefinedMetricWarning: Precision and F-score are ill-defined and being set to 0.0 in labels with no predicted samples. Use `zero_division` parameter to control this behavior.\n",
            "  _warn_prf(average, modifier, msg_start, len(result))\n",
            "/usr/local/lib/python3.7/dist-packages/sklearn/metrics/_classification.py:1318: UndefinedMetricWarning: Recall and F-score are ill-defined and being set to 0.0 in labels with no true samples. Use `zero_division` parameter to control this behavior.\n",
            "  _warn_prf(average, modifier, msg_start, len(result))\n",
            "/usr/local/lib/python3.7/dist-packages/sklearn/metrics/_classification.py:1318: UndefinedMetricWarning: Precision and F-score are ill-defined and being set to 0.0 in labels with no predicted samples. Use `zero_division` parameter to control this behavior.\n",
            "  _warn_prf(average, modifier, msg_start, len(result))\n",
            "/usr/local/lib/python3.7/dist-packages/sklearn/metrics/_classification.py:1318: UndefinedMetricWarning: Recall and F-score are ill-defined and being set to 0.0 in labels with no true samples. Use `zero_division` parameter to control this behavior.\n",
            "  _warn_prf(average, modifier, msg_start, len(result))\n"
          ]
        }
      ]
    },
    {
      "cell_type": "code",
      "source": [
        "nb_classes = 7\n",
        "\n",
        "confusion_matrix = torch.zeros(nb_classes, nb_classes)\n",
        "with torch.no_grad():\n",
        "    for i, (inputs, classes) in enumerate(test_loader):\n",
        "        #inputs = inputs.to(device)\n",
        "        #classes = classes.to(device)\n",
        "        outputs = model(inputs)\n",
        "        _, preds = torch.max(outputs, 1)\n",
        "        for t, p in zip(classes.view(-1), preds.view(-1)):\n",
        "                confusion_matrix[t.long(), p.long()] += 1\n",
        "\n",
        "print(confusion_matrix)\n",
        "print(confusion_matrix.diag()/confusion_matrix.sum(1))# acc par class"
      ],
      "metadata": {
        "colab": {
          "base_uri": "https://localhost:8080/"
        },
        "id": "iXiFgoq-UFJ6",
        "outputId": "908262cb-7b57-4d78-8533-74aad4b40c2b"
      },
      "execution_count": 69,
      "outputs": [
        {
          "output_type": "stream",
          "name": "stdout",
          "text": [
            "tensor([[ 0.,  0., 48.,  6.,  0., 31., 13.],\n",
            "        [ 0.,  2.,  1., 18.,  4.,  6.,  3.],\n",
            "        [ 0.,  0.,  0.,  0.,  0.,  0.,  0.],\n",
            "        [ 0.,  0.,  0.,  0.,  0.,  0.,  0.],\n",
            "        [ 0.,  0.,  0.,  0.,  0.,  0.,  0.],\n",
            "        [ 0.,  0.,  0.,  0.,  0.,  0.,  0.],\n",
            "        [ 0.,  0.,  0.,  0.,  0.,  0.,  0.]])\n",
            "tensor([0.0000, 0.0588,    nan,    nan,    nan,    nan,    nan])\n"
          ]
        }
      ]
    },
    {
      "cell_type": "code",
      "source": [
        "# plot confusion matrix\n",
        "idx2class = {v: k for k, v in images.class_to_idx.items()}\n",
        "confusion_matrix_df = pd.DataFrame(confusion_matrix(flat_true, flat_pred)).rename(columns=idx2class, index=idx2class)\n",
        "sns.heatmap(confusion_matrix_df, annot=True, fmt='').set(title=\"confusion matrix\", xlabel=\"Predicted Label\", ylabel=\"True Label\")\n",
        "plt.show()"
      ],
      "metadata": {
        "id": "1qhNH-ICWksP"
      },
      "execution_count": null,
      "outputs": []
    },
    {
      "cell_type": "code",
      "source": [
        "from sklearn.metrics import confusion_matrix, classification_report\n",
        "import seaborn as sns\n",
        "\n",
        "def show_confusion_matrix(confusion_matrix, class_names):\n",
        "  cm = confusion_matrix.copy()\n",
        "  cell_counts = cm.flatten()\n",
        "  cm_row_norm = cm / cm.sum(axis=1)[:, np.newaxis]\n",
        "  row_percentages = [\"{0:.2f}\".format(value) for value in cm_row_norm.flatten()]\n",
        "  cell_labels = [f\"{cnt}\\n{per}\" for cnt, per in zip(cell_counts, row_percentages)]\n",
        "  cell_labels = np.asarray(cell_labels).reshape(cm.shape[0], cm.shape[1])\n",
        "  df_cm = pd.DataFrame(cm_row_norm, index=class_names, columns=class_names)\n",
        "  hmap = sns.heatmap(df_cm, annot=cell_labels, fmt=\"\", cmap=\"Blues\")\n",
        "  hmap.yaxis.set_ticklabels(hmap.yaxis.get_ticklabels(), rotation=0, ha='right')\n",
        "  hmap.xaxis.set_ticklabels(hmap.xaxis.get_ticklabels(), rotation=30, ha='right')\n",
        "  plt.ylabel('True Sign')\n",
        "  plt.xlabel('Predicted Sign');\n",
        "\n",
        "cm = confusion_matrix(y_test, y_pred)\n",
        "show_confusion_matrix(cm, orig_set.classes)"
      ],
      "metadata": {
        "colab": {
          "base_uri": "https://localhost:8080/",
          "height": 338
        },
        "id": "Wi_Uhf6ZEL7p",
        "outputId": "4c0fbf91-6944-44a0-b269-97263f263e26"
      },
      "execution_count": 61,
      "outputs": [
        {
          "output_type": "stream",
          "name": "stderr",
          "text": [
            "/usr/local/lib/python3.7/dist-packages/ipykernel_launcher.py:7: RuntimeWarning: invalid value encountered in true_divide\n",
            "  import sys\n"
          ]
        },
        {
          "output_type": "display_data",
          "data": {
            "image/png": "[encoded data removed]",
            "text/plain": [
              "<Figure size 432x288 with 2 Axes>"
            ]
          },
          "metadata": {
            "needs_background": "light"
          }
        }
      ]
    }
  ]
}